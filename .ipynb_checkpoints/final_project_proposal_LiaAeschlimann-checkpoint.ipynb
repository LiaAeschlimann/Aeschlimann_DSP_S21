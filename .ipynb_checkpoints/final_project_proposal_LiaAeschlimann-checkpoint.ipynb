{
 "cells": [
  {
   "cell_type": "markdown",
   "id": "vulnerable-dress",
   "metadata": {},
   "source": [
    "## Final Project Proposal\n",
    "\n",
    "# Students Performance in Exams"
   ]
  },
  {
   "cell_type": "markdown",
   "id": "coated-siemens",
   "metadata": {},
   "source": [
    "#### Name: Lia Aeschlimann"
   ]
  },
  {
   "cell_type": "markdown",
   "id": "breathing-rainbow",
   "metadata": {},
   "source": [
    "#### Brief description of the dataset:\n",
    "\n",
    "> This dataset contains school marks achieved by high school students from a public school in the United States. The marks show the performance of the students in three different subjects (measured with three tests): math, reading and writing. Further there are a variety of personal, social, and economic factors that might have interaction effects upon the school perfromance. The dataset is fictional."
   ]
  },
  {
   "cell_type": "markdown",
   "id": "specified-gambling",
   "metadata": {},
   "source": [
    "#### Dataset questions:\n",
    "-\tWhere did you obtain the dataset from?\n",
    "\n",
    "> I retrieved the dataset from kaggle.com. This fictional dataset is specifically released for data science training purposes.\n",
    "Seshapanpu, J. (2018, November). Students Performance in Exams, Version 1. Retrieved April 11, 2021 from https://www.kaggle.com/spscientist/students-performance-in-exams.\n",
    "\n",
    "-\tHow many observations are there?\n",
    "\n",
    "> There are 1000 observations.\n",
    "\n",
    "-\tHow many variables are there?\n",
    "\n",
    "> There are 8 variables. \n",
    "\n",
    "-\tAre there multiple observations for the same units (e.g. multiple measurements of RTs per participant? Multiple evaluations per employee? etc)\n",
    "\n",
    "> Yes, there are three measurements of performance in exams per participant (math score, reading score, writing score)."
   ]
  },
  {
   "cell_type": "markdown",
   "id": "indirect-hardwood",
   "metadata": {},
   "source": [
    "#### Project goals:\n",
    "\n",
    "> With this project I would like to research possible factors having an influence on school performance, in sense of EDA, based on these fictional data. Therefore I'm going to have a look at the influence on personal, social and economic factors, such as the gender, parental level of education, ethnicity, socio economic status (assessed over \"lunch\"; free/reduced or standard prices, which is related to parents income)and test-preparation. \n",
    "\n",
    "> Questions like, How effective is a test preparation (absolving a test preparation course)? Which major factors contribute to test outcomes? And what would be the best way to improve student scores on the tests? Did these improvement strategies differ from test to test?\n",
    "\n",
    "> My independent variables would be \"parental level of education\" (5 factor levels), \"ethnicity\" (5 factor levels), \"parents income\" (2 factor levels), and \"test preparation\"(2 factor levels). The dependent variable would be \"school performance\" - general and per subject. \n"
   ]
  },
  {
   "cell_type": "markdown",
   "id": "anonymous-syndicate",
   "metadata": {},
   "source": [
    "#### Project methods:\n",
    "> I would like to do mixed effects modelling as the dataset has different grouping factors (e.g. ethnicity) and the data points might not be truly independent (different school classes). I supposingly would only use a linear mixed model. \n",
    "Further it may be interesting to do a cross-validation to see how the  statistical analysis will generalize to an independent data set, as this one is a fictional dataset. For this I honestly don't know enough about cross-validation yet, and if this is even applicable for a fictional data set?\n",
    "\n"
   ]
  },
  {
   "cell_type": "markdown",
   "id": "tight-breach",
   "metadata": {},
   "source": [
    "## Evaluation\n",
    "\n",
    "> [VP] - Proposal approved. Mixed-effects modeling is not appropriate, as you only have 1 observation per participant and class - the three classes are different variables, not 3 different measurements of the same variable. It would be best to just use linear regression. All of your predictors are categorical, which is not ideal. But here's a suggestion. You can code the \"Parental level of education\" with ranks 1 = some high school, 2= high school, 3= some college, 4=bachelor's degree, 5=master's degree, and then you can treat that as a continuous predictor. And yes, you can use something like 10-fold cross-validation with this dataset - you'll see how when we get to that topic."
   ]
  }
 ],
 "metadata": {
  "kernelspec": {
   "display_name": "R",
   "language": "R",
   "name": "ir"
  },
  "language_info": {
   "codemirror_mode": "r",
   "file_extension": ".r",
   "mimetype": "text/x-r-source",
   "name": "R",
   "pygments_lexer": "r",
   "version": "4.0.4"
  }
 },
 "nbformat": 4,
 "nbformat_minor": 5
}
